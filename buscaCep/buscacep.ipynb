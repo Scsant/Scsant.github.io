{
 "cells": [
  {
   "cell_type": "code",
   "execution_count": 7,
   "metadata": {},
   "outputs": [
    {
     "name": "stdout",
     "output_type": "stream",
     "text": [
      "{'cep': '17357-004', 'logradouro': 'Rua Ana Rosa Vinchi Périco', 'complemento': '', 'bairro': 'Conjunto Residencial Segura Garcia II', 'localidade': 'Igaraçu do Tietê', 'uf': 'SP', 'ibge': '3520004', 'gia': '3487', 'ddd': '14', 'siafi': '6501'}\n"
     ]
    }
   ],
   "source": [
    "import requests\n",
    "\n",
    "# Função para validar o CEP\n",
    "def validar_cep(cep):\n",
    "    return cep.isdigit() and len(cep) == 8\n",
    "\n",
    "# Função para consultar o CEP na API ViaCEP\n",
    "def consultar_cep(cep):\n",
    "    if not validar_cep(cep):\n",
    "        return \"CEP inválido. O CEP deve conter 8 dígitos numéricos.\"\n",
    "    \n",
    "    url = f\"https://viacep.com.br/ws/{cep}/json/\"\n",
    "    \n",
    "    try:\n",
    "        response = requests.get(url)\n",
    "        response.raise_for_status()  # Levanta uma exceção para códigos de status HTTP 4xx/5xx\n",
    "        \n",
    "        dados = response.json()\n",
    "        if 'erro' in dados:\n",
    "            return \"CEP não encontrado.\"\n",
    "        \n",
    "        return dados\n",
    "    except requests.exceptions.HTTPError as http_err:\n",
    "        return f\"Erro HTTP: {http_err}\"\n",
    "    except requests.exceptions.RequestException as err:\n",
    "        return f\"Erro na requisição: {err}\"\n",
    "    except Exception as err:\n",
    "        return f\"Erro inesperado: {err}\"\n",
    "\n",
    "# Exemplo de uso\n",
    "if __name__ == \"__main__\":\n",
    "    cep = \"17357004\"  # CEP de exemplo\n",
    "\n",
    "    resultado = consultar_cep(cep)\n",
    "    print(resultado)\n",
    "\n",
    "\n",
    "\n"
   ]
  }
 ],
 "metadata": {
  "kernelspec": {
   "display_name": "Python 3",
   "language": "python",
   "name": "python3"
  },
  "language_info": {
   "codemirror_mode": {
    "name": "ipython",
    "version": 3
   },
   "file_extension": ".py",
   "mimetype": "text/x-python",
   "name": "python",
   "nbconvert_exporter": "python",
   "pygments_lexer": "ipython3",
   "version": "3.11.5"
  }
 },
 "nbformat": 4,
 "nbformat_minor": 2
}
